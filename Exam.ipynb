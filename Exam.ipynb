{
 "cells": [
  {
   "attachments": {},
   "cell_type": "markdown",
   "metadata": {},
   "source": [
    "Parameters"
   ]
  },
  {
   "cell_type": "code",
   "execution_count": 11,
   "metadata": {},
   "outputs": [],
   "source": [
    "import numpy as np"
   ]
  },
  {
   "attachments": {},
   "cell_type": "markdown",
   "metadata": {},
   "source": [
    "Annunity"
   ]
  },
  {
   "cell_type": "code",
   "execution_count": 12,
   "metadata": {},
   "outputs": [],
   "source": [
    "#This method returns the Annunity of the installment\n",
    "def Anu(PV, r, n, m):\n",
    "\n",
    "        val = 1 - (1 / ((1 + (r/m))**(n)))\n",
    "\n",
    "        A = (PV*(r/m))/val\n",
    "\n",
    "        return A"
   ]
  },
  {
   "cell_type": "code",
   "execution_count": 13,
   "metadata": {},
   "outputs": [],
   "source": [
    "#This method returns the duration of the annunity\n",
    "\n",
    "def Duration_Anu(A, PV, r, maturity,m):\n",
    "\n",
    "        sum = 0\n",
    "\n",
    "        for i in range(1, maturity+1):\n",
    "            sum = sum + ((A * (i/m)) / ((1 + (r/m))**i))\n",
    "\n",
    "        dur = sum / PV\n",
    "        return dur\n"
   ]
  },
  {
   "attachments": {},
   "cell_type": "markdown",
   "metadata": {},
   "source": [
    "Bonds"
   ]
  },
  {
   "cell_type": "code",
   "execution_count": 14,
   "metadata": {},
   "outputs": [],
   "source": [
    "#This method finds the market price of the bond\n",
    "\n",
    "def marketPrice(F, C, maturity, r, m): #m is the interval\n",
    "        \n",
    "        sum =0\n",
    "        for i in range(1, maturity+1):\n",
    "            sum = sum + (1 / (1+(r/m))**i)\n",
    "        \n",
    "        price = sum*(F*(C/m)) + F*(1/ (1+(r/m))**maturity)\n",
    "\n",
    "        return price"
   ]
  },
  {
   "cell_type": "code",
   "execution_count": 15,
   "metadata": {},
   "outputs": [],
   "source": [
    "#This method returns the duration of the bond\n",
    "def duration(F,C,maturity,r,m):\n",
    "        \n",
    "        sum =0\n",
    "\n",
    "        for i in range(1, maturity+1):\n",
    "            sum = sum + (((C/m)*F*(i/m)) / ((1 + (r/m))**i))\n",
    "        \n",
    "        dur = (sum + ((F*maturity) / ((1 + (r/m)))**maturity))/ marketPrice(F,C,maturity,r,m)\n",
    "\n",
    "        return dur /m"
   ]
  },
  {
   "cell_type": "code",
   "execution_count": 23,
   "metadata": {},
   "outputs": [
    {
     "name": "stdout",
     "output_type": "stream",
     "text": [
      "[43.18681667  0.2184869   0.        ]\n"
     ]
    }
   ],
   "source": [
    "#This method solves the immunization stategy \n",
    "\n",
    "#if the question asks without shortselling then you choose one bond with a\n",
    "#duration that is smaller than the obligation duration and one with a longer duration\n",
    "def Immunization(dur1, dur2, dur3, m1, m2, m3, obligation, obligation_dur):\n",
    "\n",
    "    coef = np.array([[m1, m2, m3],[m1*dur1, m2*dur2, m3*dur3]])\n",
    "    val = np.array([obligation, obligation*obligation_dur])\n",
    "\n",
    "    return np.linalg.lstsq(coef, val, rcond=None)[0]\n",
    "\n",
    "result_Immu = Immunization(dur1=2.85735, dur2=15, \n",
    "                   dur3=0, m1=97.327,\n",
    "                   m2=41.7265, m3=0,\n",
    "                   obligation=4212.36, \n",
    "                   obligation_dur=2.88363)\n",
    "print(result_Immu)"
   ]
  },
  {
   "attachments": {},
   "cell_type": "markdown",
   "metadata": {},
   "source": [
    "Mininimum Variance and Market Portfolio (Tangency Portfolio)"
   ]
  },
  {
   "cell_type": "code",
   "execution_count": null,
   "metadata": {},
   "outputs": [
    {
     "name": "stdout",
     "output_type": "stream",
     "text": [
      "(0.9815749890519982, 0.009428722093321644, array([0.97484816, 0.01949696, 0.00565488]))\n"
     ]
    }
   ],
   "source": [
    "#Tangency Portfolio\n",
    "\n",
    "def marketPortfolio(mu, rt, cov):\n",
    "    invCov = np.linalg.inv(cov)\n",
    "\n",
    "    ones = np.array([1,1,1]) #the size of the array depends on the size of the covariance matrix\n",
    "    weights = (mu - rt*ones).T @ invCov / ((mu - rt*ones).T @ invCov @ ones)\n",
    "\n",
    "    mean = float(weights@mu)\n",
    "\n",
    "    variance = float(weights @ cov @ weights.T)\n",
    "\n",
    "    return mean, variance, weights\n",
    "\n",
    "print(marketPortfolio(mu=np.array([1, 1/5, 1/2]), rt= 20/100, \n",
    "                      cov=np.array([[1/100, -1/200, 0], [-1/200, 1/4, 0],\n",
    "                                                                            [0,0,16/25]])))"
   ]
  },
  {
   "attachments": {},
   "cell_type": "markdown",
   "metadata": {},
   "source": [
    "Minimum Variance Portfolio"
   ]
  },
  {
   "cell_type": "code",
   "execution_count": null,
   "metadata": {},
   "outputs": [
    {
     "name": "stdout",
     "output_type": "stream",
     "text": [
      "(0.9491228070175438, 0.009037227214377405, array([[0.93110826, 0.05477107, 0.01412067]]))\n"
     ]
    }
   ],
   "source": [
    "def minimumPortfolio(mean,cov):\n",
    "\n",
    "    invCov = np.linalg.inv(cov)\n",
    "\n",
    "    transpose_1 = np.ones((1,3))\n",
    "    w = (transpose_1@ invCov) / (transpose_1 @ invCov @transpose_1.T)\n",
    "\n",
    "    mean = mean.T\n",
    "\n",
    "    expected_return = float(w @ mean)\n",
    "    variance = float(w @cov@w.T)\n",
    "\n",
    "    return expected_return, variance, w\n",
    "\n",
    "print(minimumPortfolio(mean=np.array([1, 1/5, 1/2]), \n",
    "                       cov= np.array([[1/100, -1/200, 0], [-1/200, 1/4, 0],[0,0,16/25]])))"
   ]
  },
  {
   "cell_type": "code",
   "execution_count": null,
   "metadata": {},
   "outputs": [
    {
     "name": "stdout",
     "output_type": "stream",
     "text": [
      "[[0.47253418 0.45695034]\n",
      " [0.45695034 0.44188045]]\n"
     ]
    }
   ],
   "source": [
    "def Covariance(val1,val2):\n",
    "\n",
    "    cov = np.cov(val1,val2)\n",
    "    \n",
    "    return cov\n",
    "\n",
    "mPortfolio = marketPortfolio(mu=np.array([1, 1/5, 1/2]), rt= 20/100, \n",
    "                      cov=np.array([[1/100, -1/200, 0], [-1/200, 1/4, 0],\n",
    "                                                                            [0,0,16/25]]))\n",
    "variancePort = minimumPortfolio(mean=np.array([1, 1/5, 1/2]), \n",
    "                       cov= np.array([[1/100, -1/200, 0], [-1/200, 1/4, 0],[0,0,16/25]]))\n",
    "\n",
    "print(Covariance(val1 = np.array([mPortfolio[0], mPortfolio[1]]), \n",
    "                 val2 =np.array([variancePort[0], variancePort[1]])))\n",
    "\n"
   ]
  }
 ],
 "metadata": {
  "kernelspec": {
   "display_name": "Python 3",
   "language": "python",
   "name": "python3"
  },
  "language_info": {
   "codemirror_mode": {
    "name": "ipython",
    "version": 3
   },
   "file_extension": ".py",
   "mimetype": "text/x-python",
   "name": "python",
   "nbconvert_exporter": "python",
   "pygments_lexer": "ipython3",
   "version": "3.11.2"
  },
  "orig_nbformat": 4
 },
 "nbformat": 4,
 "nbformat_minor": 2
}
