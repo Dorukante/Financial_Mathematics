{
 "cells": [
  {
   "attachments": {},
   "cell_type": "markdown",
   "metadata": {},
   "source": [
    "Parameters"
   ]
  },
  {
   "cell_type": "code",
   "execution_count": 11,
   "metadata": {},
   "outputs": [],
   "source": [
    "import numpy as np\n",
    "from scipy.stats import norm"
   ]
  },
  {
   "attachments": {},
   "cell_type": "markdown",
   "metadata": {},
   "source": [
    "Annunity"
   ]
  },
  {
   "cell_type": "code",
   "execution_count": 2,
   "metadata": {},
   "outputs": [],
   "source": [
    "#This method returns the Annunity of the installment\n",
    "def Anu(PV, r, n, m):\n",
    "\n",
    "        val = 1 - (1 / ((1 + (r/m))**(n)))\n",
    "\n",
    "        A = (PV*(r/m))/val\n",
    "\n",
    "        return A"
   ]
  },
  {
   "cell_type": "code",
   "execution_count": 3,
   "metadata": {},
   "outputs": [],
   "source": [
    "#This method returns the duration of the annunity\n",
    "\n",
    "def Duration_Anu(A, PV, r, maturity,m):\n",
    "\n",
    "        sum = 0\n",
    "\n",
    "        for i in range(1, maturity+1):\n",
    "            sum = sum + ((A * (i/m)) / ((1 + (r/m))**i))\n",
    "\n",
    "        dur = sum / PV\n",
    "        return dur\n"
   ]
  },
  {
   "attachments": {},
   "cell_type": "markdown",
   "metadata": {},
   "source": [
    "Bonds"
   ]
  },
  {
   "cell_type": "code",
   "execution_count": 4,
   "metadata": {},
   "outputs": [],
   "source": [
    "#This method finds the market price of the bond\n",
    "\n",
    "def marketPrice(F, C, maturity, r, m): #m is the interval\n",
    "        \n",
    "        sum =0\n",
    "        for i in range(1, maturity+1):\n",
    "            sum = sum + (1 / (1+(r/m))**i)\n",
    "        \n",
    "        price = sum*(F*(C/m)) + F*(1/ (1+(r/m))**maturity)\n",
    "\n",
    "        return price"
   ]
  },
  {
   "cell_type": "code",
   "execution_count": 5,
   "metadata": {},
   "outputs": [],
   "source": [
    "#This method returns the duration of the bond\n",
    "def duration(F,C,maturity,r,m):\n",
    "        \n",
    "        sum =0\n",
    "\n",
    "        for i in range(1, maturity+1):\n",
    "            sum = sum + (((C/m)*F*(i/m)) / ((1 + (r/m))**i))\n",
    "        \n",
    "        dur = (sum + ((F*maturity) / ((1 + (r/m)))**maturity))/ marketPrice(F,C,maturity,r,m)\n",
    "\n",
    "        return dur /m"
   ]
  },
  {
   "cell_type": "code",
   "execution_count": 6,
   "metadata": {},
   "outputs": [
    {
     "name": "stdout",
     "output_type": "stream",
     "text": [
      "[43.18681667  0.2184869   0.        ]\n"
     ]
    }
   ],
   "source": [
    "#This method solves the immunization stategy \n",
    "\n",
    "#if the question asks without shortselling then you choose one bond with a\n",
    "#duration that is smaller than the obligation duration and one with a longer duration\n",
    "def Immunization(dur1, dur2, dur3, m1, m2, m3, obligation, obligation_dur):\n",
    "\n",
    "    coef = np.array([[m1, m2, m3],[m1*dur1, m2*dur2, m3*dur3]])\n",
    "    val = np.array([obligation, obligation*obligation_dur])\n",
    "\n",
    "    return np.linalg.lstsq(coef, val, rcond=None)[0]\n",
    "\n",
    "result_Immu = Immunization(dur1=2.85735, dur2=15, \n",
    "                   dur3=0, m1=97.327,\n",
    "                   m2=41.7265, m3=0,\n",
    "                   obligation=4212.36, \n",
    "                   obligation_dur=2.88363)\n",
    "print(result_Immu)"
   ]
  },
  {
   "attachments": {},
   "cell_type": "markdown",
   "metadata": {},
   "source": [
    "Mininimum Variance and Market Portfolio (Tangency Portfolio)"
   ]
  },
  {
   "cell_type": "code",
   "execution_count": 7,
   "metadata": {},
   "outputs": [
    {
     "name": "stdout",
     "output_type": "stream",
     "text": [
      "(0.9815749890519982, 0.009428722093321644, array([0.97484816, 0.01949696, 0.00565488]))\n"
     ]
    }
   ],
   "source": [
    "#Tangency Portfolio\n",
    "\n",
    "def marketPortfolio(mu, rt, cov):\n",
    "    invCov = np.linalg.inv(cov)\n",
    "\n",
    "    ones = np.array([1,1,1]) #the size of the array depends on the size of the covariance matrix\n",
    "    weights = (mu - rt*ones).T @ invCov / ((mu - rt*ones).T @ invCov @ ones)\n",
    "\n",
    "    mean = float(weights@mu)\n",
    "\n",
    "    variance = float(weights @ cov @ weights.T)\n",
    "\n",
    "    return mean, variance, weights\n",
    "\n",
    "print(marketPortfolio(mu=np.array([1, 1/5, 1/2]), rt= 20/100, \n",
    "                      cov=np.array([[1/100, -1/200, 0], [-1/200, 1/4, 0],\n",
    "                                                                            [0,0,16/25]])))"
   ]
  },
  {
   "attachments": {},
   "cell_type": "markdown",
   "metadata": {},
   "source": [
    "Minimum Variance Portfolio"
   ]
  },
  {
   "cell_type": "code",
   "execution_count": 8,
   "metadata": {},
   "outputs": [
    {
     "name": "stdout",
     "output_type": "stream",
     "text": [
      "(0.9491228070175438, 0.009037227214377405, array([[0.93110826, 0.05477107, 0.01412067]]))\n"
     ]
    }
   ],
   "source": [
    "def minimumPortfolio(mean,cov):\n",
    "\n",
    "    invCov = np.linalg.inv(cov)\n",
    "\n",
    "    transpose_1 = np.ones((1,3))\n",
    "    w = (transpose_1@ invCov) / (transpose_1 @ invCov @transpose_1.T)\n",
    "\n",
    "    mean = mean.T\n",
    "\n",
    "    expected_return = float(w @ mean)\n",
    "    variance = float(w @cov@w.T)\n",
    "\n",
    "    return expected_return, variance, w\n",
    "\n",
    "print(minimumPortfolio(mean=np.array([1, 1/5, 1/2]), \n",
    "                       cov= np.array([[1/100, -1/200, 0], [-1/200, 1/4, 0],[0,0,16/25]])))"
   ]
  },
  {
   "cell_type": "code",
   "execution_count": 10,
   "metadata": {},
   "outputs": [
    {
     "name": "stdout",
     "output_type": "stream",
     "text": [
      "0.009037227214377407\n"
     ]
    }
   ],
   "source": [
    "#The covariance between the market and tangency portfolio. I did not understand the reason of this method\n",
    "def covariance(weight_Market, weight_Min, Cov_Matrix):\n",
    "\n",
    "    cov = weight_Market@Cov_Matrix@weight_Min.T\n",
    "\n",
    "    return cov\n",
    "\n",
    "print(covariance(marketPortfolio(np.array([1, 1/5, 1/2]), 20/100, np.array([[1/100, -1/200, 0],[-1/200,1/4,0],[0,0,16/25]])\n",
    "                      )[2],minimumPortfolio(np.array([1, 1/5, 1/2]), np.array([[1/100, -1/200, 0],[-1/200,1/4,0],[0,0,16/25]]))[2]\n",
    "                      ,np.array([[1/100, -1/200, 0],[-1/200,1/4,0],[0,0,16/25]]))[0])\n",
    "\n"
   ]
  },
  {
   "attachments": {},
   "cell_type": "markdown",
   "metadata": {},
   "source": [
    "Black - Scholes"
   ]
  },
  {
   "cell_type": "code",
   "execution_count": 53,
   "metadata": {},
   "outputs": [
    {
     "name": "stdout",
     "output_type": "stream",
     "text": [
      "1.9105582254606794 0.9055290116542984\n"
     ]
    }
   ],
   "source": [
    "def call(var, r, K, S0, T, t):\n",
    "\n",
    "    sigma = np.sqrt(var)\n",
    "    drift = r - (1/2)*var\n",
    "\n",
    "    mu = r\n",
    "\n",
    "    d_1 = (1 / (sigma*np.sqrt(T-t)))*(np.log(S0/K) + ((r + (var /2))*(T-t)))\n",
    "\n",
    "    d_2 = d_1 - (sigma*np.sqrt(T -t))\n",
    "\n",
    "    #find the z scores of d_1 and d_2\n",
    "\n",
    "    z_score_d1 = norm.cdf(d_1) \n",
    "    z_score_d2 = norm.cdf(d_2)\n",
    "\n",
    "    c = (z_score_d1*S0) - ((z_score_d2*K)*np.exp(-r*(T-t)))\n",
    "\n",
    "    return c\n",
    "\n",
    "call_result = call(1/4, ((20/100)/52), 34, 35, 2/52, 0)\n",
    "\n",
    "def put(call, K, T, t, S0, r):\n",
    "\n",
    "    p = K*(np.exp(-r*(T-t))) - S0 + call\n",
    "\n",
    "    return p\n",
    "\n",
    "put_result = put(call_result, 34,2/52,0,35,(20/100)/52)\n",
    "\n",
    "\n",
    "print(call_result,put_result)\n"
   ]
  }
 ],
 "metadata": {
  "kernelspec": {
   "display_name": "Python 3",
   "language": "python",
   "name": "python3"
  },
  "language_info": {
   "codemirror_mode": {
    "name": "ipython",
    "version": 3
   },
   "file_extension": ".py",
   "mimetype": "text/x-python",
   "name": "python",
   "nbconvert_exporter": "python",
   "pygments_lexer": "ipython3",
   "version": "3.11.2"
  },
  "orig_nbformat": 4
 },
 "nbformat": 4,
 "nbformat_minor": 2
}
