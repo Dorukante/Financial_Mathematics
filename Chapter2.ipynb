{
 "cells": [
  {
   "cell_type": "code",
   "execution_count": 19,
   "metadata": {},
   "outputs": [],
   "source": [
    "import numpy as np\n",
    "from scipy.optimize import fsolve"
   ]
  },
  {
   "cell_type": "code",
   "execution_count": 18,
   "metadata": {},
   "outputs": [
    {
     "data": {
      "text/plain": [
       "(730.0250586748925, 719.2885925968376)"
      ]
     },
     "execution_count": 18,
     "metadata": {},
     "output_type": "execute_result"
    }
   ],
   "source": [
    "#Question 1\n",
    "\n",
    "#We will use NPV to decide which bond is better\n",
    "arrayA = np.array([0, 300, 0, 230, 0, 0, 300])\n",
    "arrayB = np.array([0, 0, 100, 120, 100, 0, 550])\n",
    "\n",
    "def NPV(array, r, m):\n",
    "\n",
    "    sum =0\n",
    "\n",
    "    for i in range(len(array)):\n",
    "\n",
    "        sum = sum + ((array[i]) / (1 + (r/m))**i)\n",
    "\n",
    "    return sum\n",
    "\n",
    "NPV_A = NPV(arrayA, 8/100, 2)\n",
    "NPV_B = NPV(arrayB, 8/100, 2)\n",
    "\n",
    "NPV_A, NPV_B\n",
    "\n",
    "#Since NPV_A is bigger than NPV_B, then the first portfolio is profitable"
   ]
  },
  {
   "cell_type": "code",
   "execution_count": 8,
   "metadata": {},
   "outputs": [
    {
     "data": {
      "text/plain": [
       "679.9956636438708"
      ]
     },
     "execution_count": 8,
     "metadata": {},
     "output_type": "execute_result"
    }
   ],
   "source": [
    "#Question 2\n",
    "\n",
    "#It is an annunity type loan. So this means that the montly payment of the loans will be same\n",
    "\n",
    "def Annunity(PV, r, n, m):\n",
    "\n",
    "    val = (1 - (1 / (1+(r/m))**n)) \n",
    "\n",
    "    loan = (PV * (r/m)) / val\n",
    "    return loan\n",
    "\n",
    "Anu = Annunity(20690, 6/100, 60, 12)\n",
    "\n",
    "totalCost = Anu + 60 + 100 + 70 + 50\n",
    "\n",
    "totalCost\n",
    "\n",
    "#Since total cost is bigger than 550, we cannot afford the car"
   ]
  },
  {
   "cell_type": "code",
   "execution_count": null,
   "metadata": {},
   "outputs": [],
   "source": [
    "#Question 3\n"
   ]
  },
  {
   "cell_type": "code",
   "execution_count": 32,
   "metadata": {},
   "outputs": [
    {
     "name": "stdout",
     "output_type": "stream",
     "text": [
      "8.978100303302607\n",
      "[ True]\n"
     ]
    }
   ],
   "source": [
    "#Question 5\n",
    "\n",
    "#In order to find the prize, we need to compute the IRR\n",
    "\n",
    "def fairPrize(r):\n",
    "\n",
    "    C = 5\n",
    "    n = 2\n",
    "    F = 100\n",
    "    val =0\n",
    "    for i in range(1, n+1):\n",
    "        \n",
    "        val = val + (C / (1 + r)**i)\n",
    "\n",
    "    val2 = val + (F / (1 + r)**n)\n",
    "\n",
    "\n",
    "    return val2 - 93\n",
    "\n",
    "result = fsolve(fairPrize, 0)\n",
    "print((result*100)[0])\n",
    "\n",
    "print(np.isclose(fairPrize(result), 0.0))\n"
   ]
  }
 ],
 "metadata": {
  "kernelspec": {
   "display_name": "Python 3",
   "language": "python",
   "name": "python3"
  },
  "language_info": {
   "codemirror_mode": {
    "name": "ipython",
    "version": 3
   },
   "file_extension": ".py",
   "mimetype": "text/x-python",
   "name": "python",
   "nbconvert_exporter": "python",
   "pygments_lexer": "ipython3",
   "version": "3.11.2"
  },
  "orig_nbformat": 4
 },
 "nbformat": 4,
 "nbformat_minor": 2
}
