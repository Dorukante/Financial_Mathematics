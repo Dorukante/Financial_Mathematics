{
 "cells": [
  {
   "cell_type": "code",
   "execution_count": 7,
   "metadata": {},
   "outputs": [
    {
     "data": {
      "text/plain": [
       "679.9956636438708"
      ]
     },
     "execution_count": 7,
     "metadata": {},
     "output_type": "execute_result"
    }
   ],
   "source": [
    "#Question 2\n",
    "\n",
    "#It is an annunity type loan. So this means that the montly payment of the loans will be same\n",
    "\n",
    "def Annunity(PV, r, n, m):\n",
    "\n",
    "    val = (1 - (1 / (1+(r/m))**n)) \n",
    "\n",
    "    loan = (PV * (r/m)) / val\n",
    "    return loan\n",
    "\n",
    "Anu = Annunity(20690, 6/100, 60, 12)\n",
    "\n",
    "totalCost = Anu + 60 + 100 + 70 + 50\n",
    "\n",
    "totalCost\n",
    "\n",
    "#Since total cost is bigger than 550, we cannot afford the car"
   ]
  }
 ],
 "metadata": {
  "kernelspec": {
   "display_name": "Python 3",
   "language": "python",
   "name": "python3"
  },
  "language_info": {
   "codemirror_mode": {
    "name": "ipython",
    "version": 3
   },
   "file_extension": ".py",
   "mimetype": "text/x-python",
   "name": "python",
   "nbconvert_exporter": "python",
   "pygments_lexer": "ipython3",
   "version": "3.11.2"
  },
  "orig_nbformat": 4
 },
 "nbformat": 4,
 "nbformat_minor": 2
}
